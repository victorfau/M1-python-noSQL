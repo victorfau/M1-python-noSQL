{
 "cells": [
  {
   "cell_type": "code",
   "execution_count": 1,
   "metadata": {},
   "outputs": [
    {
     "name": "stdout",
     "output_type": "stream",
     "text": [
      "L'objet à bien été crée !\n",
      "La méthode est appelé automatiquement à la déclaration de l'objet\n",
      "new depot\n",
      "new retrait\n",
      "950\n",
      "L'objet à bien été crée !\n",
      "La méthode est appelé automatiquement à la déclaration de l'objet\n",
      "new depot\n",
      "1025\n"
     ]
    }
   ],
   "source": [
    "class compteBancaire(object):\n",
    "\tdef __init__(self, titulaire = 'Dupont', sold = 1000):\n",
    "\t\tprint(\"L'objet à bien été crée !\")\n",
    "\t\tprint(\"La méthode est appelé automatiquement à la déclaration de l'objet\")\n",
    "\t\tself._titulaire = titulaire \n",
    "\t\tself._sold = sold\n",
    "\n",
    "\tdef _get_sold(self):\n",
    "\t\tprint(\"Récupération du sold\")\n",
    "\t\treturn self._sold\n",
    "\n",
    "\tdef _set_sold(self, newValue):\n",
    "\t\tprint(\"Changement du sold\")\n",
    "\t\tself._sold  =  newValue\n",
    "\n",
    "\tdef _get_titulaire(self):\n",
    "\t\tprint(\"Récupération du titulaire\")\n",
    "\t\treturn self._titulaire\n",
    "\n",
    "\tdef _set_titulaire(self, newValue):\n",
    "\t\tprint(\"Changement du titulaire\")\n",
    "\t\tself._titulaire = newValue\n",
    "\n",
    "\tdef depot(self, depotValue):\n",
    "\t\tprint(\"new depot\")\n",
    "\t\tself._sold = self._sold + depotValue\n",
    "\n",
    "\tdef retrait(self, retraitValue):\n",
    "\t\tprint(\"new retrait\")\n",
    "\t\tself._sold = self._sold - retraitValue\n",
    "\n",
    "\tdef affiche(self):\n",
    "\t\tprint(self._sold)\n",
    "\n",
    "\tsold=property(_get_sold, _set_sold)\n",
    "\ttitulaire=property(_get_titulaire, _set_titulaire)\n",
    "\n",
    "compte1 = compteBancaire('Duchmol', 800)\n",
    "compte1.depot(350)\n",
    "compte1.retrait(200)\n",
    "compte1.affiche()\n",
    "compte2 = compteBancaire()\n",
    "compte2.depot(25)\n",
    "compte2.affiche()"
   ]
  },
  {
   "cell_type": "code",
   "execution_count": null,
   "metadata": {},
   "outputs": [],
   "source": [
    "print(\"ici tu peux taper ton code ! \")"
   ]
  }
 ],
 "metadata": {
  "kernelspec": {
   "display_name": "Python 3",
   "language": "python",
   "name": "python3"
  },
  "language_info": {
   "codemirror_mode": {
    "name": "ipython",
    "version": 3
   },
   "file_extension": ".py",
   "mimetype": "text/x-python",
   "name": "python",
   "nbconvert_exporter": "python",
   "pygments_lexer": "ipython3",
   "version": "3.7.7"
  }
 },
 "nbformat": 4,
 "nbformat_minor": 4
}
